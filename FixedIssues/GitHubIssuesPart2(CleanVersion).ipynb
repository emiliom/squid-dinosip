{
 "cells": [
  {
   "cell_type": "markdown",
   "id": "58fca7ec-9d44-4e19-b22a-889801294c58",
   "metadata": {},
   "source": [
    "# GitHubIssuesPart2(CleanVersion)"
   ]
  },
  {
   "cell_type": "code",
   "execution_count": 2,
   "id": "fe237a2a-0db0-43f0-9325-1352bd04a121",
   "metadata": {},
   "outputs": [],
   "source": [
    "import xarray as xr\n",
    "xr.set_options(display_style=\"html\", display_expand_attrs=False);\n",
    "from matplotlib import pyplot as plt\n",
    "plt.style.use('default')\n",
    "import cartopy\n",
    "import cartopy.crs as ccrs\n",
    "import argopy\n",
    "import numpy as np\n",
    "import os, shutil\n",
    "from pathlib import Path\n",
    "\n",
    "from argopy import DataFetcher as ArgoDataFetcher\n",
    "from argopy import IndexFetcher as ArgoIndexFetcher\n",
    "from argopy import TopoFetcher \n",
    "\n",
    "argo_loader = ArgoDataFetcher(src='erddap', parallel=True, qc=1) #This limits the data to the highest quality control flag (QC = 1)"
   ]
  },
  {
   "cell_type": "code",
   "execution_count": 3,
   "id": "822cfbd0-00bd-48a8-855e-f70ebc6bc52b",
   "metadata": {},
   "outputs": [
    {
     "ename": "ValueError",
     "evalue": "'c' argument has 900 elements, which is inconsistent with 'x' and 'y' with size 2100.",
     "output_type": "error",
     "traceback": [
      "\u001b[1;31m---------------------------------------------------------------------------\u001b[0m",
      "\u001b[1;31mValueError\u001b[0m                                Traceback (most recent call last)",
      "File \u001b[1;32m~\\mambaforge\\envs\\AOS2\\lib\\site-packages\\matplotlib\\axes\\_axes.py:4433\u001b[0m, in \u001b[0;36mAxes._parse_scatter_color_args\u001b[1;34m(c, edgecolors, kwargs, xsize, get_next_color_func)\u001b[0m\n\u001b[0;32m   4432\u001b[0m \u001b[38;5;28;01mtry\u001b[39;00m:  \u001b[38;5;66;03m# Is 'c' acceptable as PathCollection facecolors?\u001b[39;00m\n\u001b[1;32m-> 4433\u001b[0m     colors \u001b[38;5;241m=\u001b[39m \u001b[43mmcolors\u001b[49m\u001b[38;5;241;43m.\u001b[39;49m\u001b[43mto_rgba_array\u001b[49m\u001b[43m(\u001b[49m\u001b[43mc\u001b[49m\u001b[43m)\u001b[49m\n\u001b[0;32m   4434\u001b[0m \u001b[38;5;28;01mexcept\u001b[39;00m (\u001b[38;5;167;01mTypeError\u001b[39;00m, \u001b[38;5;167;01mValueError\u001b[39;00m) \u001b[38;5;28;01mas\u001b[39;00m err:\n",
      "File \u001b[1;32m~\\mambaforge\\envs\\AOS2\\lib\\site-packages\\matplotlib\\colors.py:487\u001b[0m, in \u001b[0;36mto_rgba_array\u001b[1;34m(c, alpha)\u001b[0m\n\u001b[0;32m    486\u001b[0m \u001b[38;5;28;01melse\u001b[39;00m:\n\u001b[1;32m--> 487\u001b[0m     rgba \u001b[38;5;241m=\u001b[39m np\u001b[38;5;241m.\u001b[39marray([to_rgba(cc) \u001b[38;5;28;01mfor\u001b[39;00m cc \u001b[38;5;129;01min\u001b[39;00m c])\n\u001b[0;32m    489\u001b[0m \u001b[38;5;28;01mif\u001b[39;00m alpha \u001b[38;5;129;01mis\u001b[39;00m \u001b[38;5;129;01mnot\u001b[39;00m \u001b[38;5;28;01mNone\u001b[39;00m:\n",
      "File \u001b[1;32m~\\mambaforge\\envs\\AOS2\\lib\\site-packages\\matplotlib\\colors.py:487\u001b[0m, in \u001b[0;36m<listcomp>\u001b[1;34m(.0)\u001b[0m\n\u001b[0;32m    486\u001b[0m \u001b[38;5;28;01melse\u001b[39;00m:\n\u001b[1;32m--> 487\u001b[0m     rgba \u001b[38;5;241m=\u001b[39m np\u001b[38;5;241m.\u001b[39marray([\u001b[43mto_rgba\u001b[49m\u001b[43m(\u001b[49m\u001b[43mcc\u001b[49m\u001b[43m)\u001b[49m \u001b[38;5;28;01mfor\u001b[39;00m cc \u001b[38;5;129;01min\u001b[39;00m c])\n\u001b[0;32m    489\u001b[0m \u001b[38;5;28;01mif\u001b[39;00m alpha \u001b[38;5;129;01mis\u001b[39;00m \u001b[38;5;129;01mnot\u001b[39;00m \u001b[38;5;28;01mNone\u001b[39;00m:\n",
      "File \u001b[1;32m~\\mambaforge\\envs\\AOS2\\lib\\site-packages\\matplotlib\\colors.py:299\u001b[0m, in \u001b[0;36mto_rgba\u001b[1;34m(c, alpha)\u001b[0m\n\u001b[0;32m    298\u001b[0m \u001b[38;5;28;01mif\u001b[39;00m rgba \u001b[38;5;129;01mis\u001b[39;00m \u001b[38;5;28;01mNone\u001b[39;00m:  \u001b[38;5;66;03m# Suppress exception chaining of cache lookup failure.\u001b[39;00m\n\u001b[1;32m--> 299\u001b[0m     rgba \u001b[38;5;241m=\u001b[39m \u001b[43m_to_rgba_no_colorcycle\u001b[49m\u001b[43m(\u001b[49m\u001b[43mc\u001b[49m\u001b[43m,\u001b[49m\u001b[43m \u001b[49m\u001b[43malpha\u001b[49m\u001b[43m)\u001b[49m\n\u001b[0;32m    300\u001b[0m     \u001b[38;5;28;01mtry\u001b[39;00m:\n",
      "File \u001b[1;32m~\\mambaforge\\envs\\AOS2\\lib\\site-packages\\matplotlib\\colors.py:381\u001b[0m, in \u001b[0;36m_to_rgba_no_colorcycle\u001b[1;34m(c, alpha)\u001b[0m\n\u001b[0;32m    380\u001b[0m \u001b[38;5;28;01mif\u001b[39;00m \u001b[38;5;129;01mnot\u001b[39;00m np\u001b[38;5;241m.\u001b[39miterable(c):\n\u001b[1;32m--> 381\u001b[0m     \u001b[38;5;28;01mraise\u001b[39;00m \u001b[38;5;167;01mValueError\u001b[39;00m(\u001b[38;5;124mf\u001b[39m\u001b[38;5;124m\"\u001b[39m\u001b[38;5;124mInvalid RGBA argument: \u001b[39m\u001b[38;5;132;01m{\u001b[39;00morig_c\u001b[38;5;132;01m!r}\u001b[39;00m\u001b[38;5;124m\"\u001b[39m)\n\u001b[0;32m    382\u001b[0m \u001b[38;5;28;01mif\u001b[39;00m \u001b[38;5;28mlen\u001b[39m(c) \u001b[38;5;129;01mnot\u001b[39;00m \u001b[38;5;129;01min\u001b[39;00m [\u001b[38;5;241m3\u001b[39m, \u001b[38;5;241m4\u001b[39m]:\n",
      "\u001b[1;31mValueError\u001b[0m: Invalid RGBA argument: 3.0",
      "\nThe above exception was the direct cause of the following exception:\n",
      "\u001b[1;31mValueError\u001b[0m                                Traceback (most recent call last)",
      "Cell \u001b[1;32mIn[3], line 49\u001b[0m\n\u001b[0;32m     46\u001b[0m n_prof_value \u001b[38;5;241m=\u001b[39m sliced_data\u001b[38;5;241m.\u001b[39mN_PROF\u001b[38;5;241m.\u001b[39mvalues[\u001b[38;5;241m0\u001b[39m]\n\u001b[0;32m     48\u001b[0m \u001b[38;5;66;03m#Temperature\u001b[39;00m\n\u001b[1;32m---> 49\u001b[0m sc1 \u001b[38;5;241m=\u001b[39m \u001b[43max\u001b[49m\u001b[43m[\u001b[49m\u001b[38;5;241;43m0\u001b[39;49m\u001b[43m]\u001b[49m\u001b[38;5;241;43m.\u001b[39;49m\u001b[43mscatter\u001b[49m\u001b[43m(\u001b[49m\u001b[43msliced_data\u001b[49m\u001b[38;5;241;43m.\u001b[39;49m\u001b[43mTEMP\u001b[49m\u001b[43m,\u001b[49m\u001b[38;5;241;43m-\u001b[39;49m\u001b[43msliced_data\u001b[49m\u001b[38;5;241;43m.\u001b[39;49m\u001b[43mPRES\u001b[49m\u001b[43m,\u001b[49m\u001b[43m \u001b[49m\u001b[43mc\u001b[49m\u001b[38;5;241;43m=\u001b[39;49m\u001b[43mmonths_repeated\u001b[49m\u001b[43m,\u001b[49m\u001b[43m \u001b[49m\u001b[43malpha\u001b[49m\u001b[38;5;241;43m=\u001b[39;49m\u001b[38;5;241;43m0.5\u001b[39;49m\u001b[43m,\u001b[49m\u001b[43m \u001b[49m\u001b[43mcmap\u001b[49m\u001b[38;5;241;43m=\u001b[39;49m\u001b[38;5;124;43m\"\u001b[39;49m\u001b[38;5;124;43mjet\u001b[39;49m\u001b[38;5;124;43m\"\u001b[39;49m\u001b[43m)\u001b[49m\n\u001b[0;32m     50\u001b[0m ax[\u001b[38;5;241m0\u001b[39m]\u001b[38;5;241m.\u001b[39mset_xlabel(\u001b[38;5;124m'\u001b[39m\u001b[38;5;124mSea Temperature IN SITU ITS-90 in Celcius\u001b[39m\u001b[38;5;124m'\u001b[39m) \n\u001b[0;32m     51\u001b[0m ax[\u001b[38;5;241m0\u001b[39m]\u001b[38;5;241m.\u001b[39mset_ylabel(\u001b[38;5;124m'\u001b[39m\u001b[38;5;124mSea Pressure (dbar)\u001b[39m\u001b[38;5;124m'\u001b[39m)\n",
      "File \u001b[1;32m~\\mambaforge\\envs\\AOS2\\lib\\site-packages\\matplotlib\\__init__.py:1446\u001b[0m, in \u001b[0;36m_preprocess_data.<locals>.inner\u001b[1;34m(ax, data, *args, **kwargs)\u001b[0m\n\u001b[0;32m   1443\u001b[0m \u001b[38;5;129m@functools\u001b[39m\u001b[38;5;241m.\u001b[39mwraps(func)\n\u001b[0;32m   1444\u001b[0m \u001b[38;5;28;01mdef\u001b[39;00m \u001b[38;5;21minner\u001b[39m(ax, \u001b[38;5;241m*\u001b[39margs, data\u001b[38;5;241m=\u001b[39m\u001b[38;5;28;01mNone\u001b[39;00m, \u001b[38;5;241m*\u001b[39m\u001b[38;5;241m*\u001b[39mkwargs):\n\u001b[0;32m   1445\u001b[0m     \u001b[38;5;28;01mif\u001b[39;00m data \u001b[38;5;129;01mis\u001b[39;00m \u001b[38;5;28;01mNone\u001b[39;00m:\n\u001b[1;32m-> 1446\u001b[0m         \u001b[38;5;28;01mreturn\u001b[39;00m func(ax, \u001b[38;5;241m*\u001b[39m\u001b[38;5;28mmap\u001b[39m(sanitize_sequence, args), \u001b[38;5;241m*\u001b[39m\u001b[38;5;241m*\u001b[39mkwargs)\n\u001b[0;32m   1448\u001b[0m     bound \u001b[38;5;241m=\u001b[39m new_sig\u001b[38;5;241m.\u001b[39mbind(ax, \u001b[38;5;241m*\u001b[39margs, \u001b[38;5;241m*\u001b[39m\u001b[38;5;241m*\u001b[39mkwargs)\n\u001b[0;32m   1449\u001b[0m     auto_label \u001b[38;5;241m=\u001b[39m (bound\u001b[38;5;241m.\u001b[39marguments\u001b[38;5;241m.\u001b[39mget(label_namer)\n\u001b[0;32m   1450\u001b[0m                   \u001b[38;5;129;01mor\u001b[39;00m bound\u001b[38;5;241m.\u001b[39mkwargs\u001b[38;5;241m.\u001b[39mget(label_namer))\n",
      "File \u001b[1;32m~\\mambaforge\\envs\\AOS2\\lib\\site-packages\\matplotlib\\axes\\_axes.py:4596\u001b[0m, in \u001b[0;36mAxes.scatter\u001b[1;34m(self, x, y, s, c, marker, cmap, norm, vmin, vmax, alpha, linewidths, edgecolors, plotnonfinite, **kwargs)\u001b[0m\n\u001b[0;32m   4593\u001b[0m \u001b[38;5;28;01mif\u001b[39;00m edgecolors \u001b[38;5;129;01mis\u001b[39;00m \u001b[38;5;28;01mNone\u001b[39;00m:\n\u001b[0;32m   4594\u001b[0m     orig_edgecolor \u001b[38;5;241m=\u001b[39m kwargs\u001b[38;5;241m.\u001b[39mget(\u001b[38;5;124m'\u001b[39m\u001b[38;5;124medgecolor\u001b[39m\u001b[38;5;124m'\u001b[39m, \u001b[38;5;28;01mNone\u001b[39;00m)\n\u001b[0;32m   4595\u001b[0m c, colors, edgecolors \u001b[38;5;241m=\u001b[39m \\\n\u001b[1;32m-> 4596\u001b[0m     \u001b[38;5;28;43mself\u001b[39;49m\u001b[38;5;241;43m.\u001b[39;49m\u001b[43m_parse_scatter_color_args\u001b[49m\u001b[43m(\u001b[49m\n\u001b[0;32m   4597\u001b[0m \u001b[43m        \u001b[49m\u001b[43mc\u001b[49m\u001b[43m,\u001b[49m\u001b[43m \u001b[49m\u001b[43medgecolors\u001b[49m\u001b[43m,\u001b[49m\u001b[43m \u001b[49m\u001b[43mkwargs\u001b[49m\u001b[43m,\u001b[49m\u001b[43m \u001b[49m\u001b[43mx\u001b[49m\u001b[38;5;241;43m.\u001b[39;49m\u001b[43msize\u001b[49m\u001b[43m,\u001b[49m\n\u001b[0;32m   4598\u001b[0m \u001b[43m        \u001b[49m\u001b[43mget_next_color_func\u001b[49m\u001b[38;5;241;43m=\u001b[39;49m\u001b[38;5;28;43mself\u001b[39;49m\u001b[38;5;241;43m.\u001b[39;49m\u001b[43m_get_patches_for_fill\u001b[49m\u001b[38;5;241;43m.\u001b[39;49m\u001b[43mget_next_color\u001b[49m\u001b[43m)\u001b[49m\n\u001b[0;32m   4600\u001b[0m \u001b[38;5;28;01mif\u001b[39;00m plotnonfinite \u001b[38;5;129;01mand\u001b[39;00m colors \u001b[38;5;129;01mis\u001b[39;00m \u001b[38;5;28;01mNone\u001b[39;00m:\n\u001b[0;32m   4601\u001b[0m     c \u001b[38;5;241m=\u001b[39m np\u001b[38;5;241m.\u001b[39mma\u001b[38;5;241m.\u001b[39mmasked_invalid(c)\n",
      "File \u001b[1;32m~\\mambaforge\\envs\\AOS2\\lib\\site-packages\\matplotlib\\axes\\_axes.py:4439\u001b[0m, in \u001b[0;36mAxes._parse_scatter_color_args\u001b[1;34m(c, edgecolors, kwargs, xsize, get_next_color_func)\u001b[0m\n\u001b[0;32m   4437\u001b[0m \u001b[38;5;28;01melse\u001b[39;00m:\n\u001b[0;32m   4438\u001b[0m     \u001b[38;5;28;01mif\u001b[39;00m \u001b[38;5;129;01mnot\u001b[39;00m valid_shape:\n\u001b[1;32m-> 4439\u001b[0m         \u001b[38;5;28;01mraise\u001b[39;00m invalid_shape_exception(c\u001b[38;5;241m.\u001b[39msize, xsize) \u001b[38;5;28;01mfrom\u001b[39;00m \u001b[38;5;21;01merr\u001b[39;00m\n\u001b[0;32m   4440\u001b[0m     \u001b[38;5;66;03m# Both the mapping *and* the RGBA conversion failed: pretty\u001b[39;00m\n\u001b[0;32m   4441\u001b[0m     \u001b[38;5;66;03m# severe failure => one may appreciate a verbose feedback.\u001b[39;00m\n\u001b[0;32m   4442\u001b[0m     \u001b[38;5;28;01mraise\u001b[39;00m \u001b[38;5;167;01mValueError\u001b[39;00m(\n\u001b[0;32m   4443\u001b[0m         \u001b[38;5;124mf\u001b[39m\u001b[38;5;124m\"\u001b[39m\u001b[38;5;124m'\u001b[39m\u001b[38;5;124mc\u001b[39m\u001b[38;5;124m'\u001b[39m\u001b[38;5;124m argument must be a color, a sequence of colors, \u001b[39m\u001b[38;5;124m\"\u001b[39m\n\u001b[0;32m   4444\u001b[0m         \u001b[38;5;124mf\u001b[39m\u001b[38;5;124m\"\u001b[39m\u001b[38;5;124mor a sequence of numbers, not \u001b[39m\u001b[38;5;132;01m{\u001b[39;00mc\u001b[38;5;132;01m!r}\u001b[39;00m\u001b[38;5;124m\"\u001b[39m) \u001b[38;5;28;01mfrom\u001b[39;00m \u001b[38;5;21;01merr\u001b[39;00m\n",
      "\u001b[1;31mValueError\u001b[0m: 'c' argument has 900 elements, which is inconsistent with 'x' and 'y' with size 2100."
     ]
    },
    {
     "data": {
      "image/png": "[encoded data removed]",
      "text/plain": [
       "<Figure size 800x1000 with 2 Axes>"
      ]
     },
     "metadata": {},
     "output_type": "display_data"
    }
   ],
   "source": [
    "# This is the new code I created to make a color bar, but there is a mismatch in dimensions that I am having a hard time pinpointing. My guess is that it has something to do with there being nans in the data; \n",
    "\n",
    "sliced_data_list = []\n",
    "\n",
    "a_values = [5903608] #, 5904128, 5904977, 4900816, 4902251, 4902149, 4902947, 4902935, 5903603]\n",
    "for a in a_values:\n",
    "    \n",
    "    apDS = argo_loader.float(a).load().data\n",
    "    data1 = apDS.argo.point2profile()\n",
    "    data2 = data1.set_xindex(\"TIME\")\n",
    "    sliced_data = data2.sel(TIME=slice('2017-03-01','2017-12-31'))\n",
    "   \n",
    "    # Filter data with NaNs in the 'N_PROF' dimension\n",
    "    sliced_data_filtered = sliced_data.dropna(dim='N_PROF', how='any')\n",
    "    sliced_data_filtered = sliced_data.dropna(dim='N_LEVELS', how='any')\n",
    "    \n",
    "    # Append to the sliced_data_list only if there are no NaNs left\n",
    "    if len(sliced_data_filtered) > 0:\n",
    "        # Drop the 'N_PROF' dimension to avoid conflicting indexes\n",
    "        sliced_data = sliced_data_filtered.drop('N_PROF')\n",
    "        sliced_data_list.append(sliced_data_filtered)\n",
    "\n",
    "\n",
    "import pandas as pd\n",
    "\n",
    "for i, sliced_data in enumerate(sliced_data_list):\n",
    "    \n",
    "    fig, ax = plt.subplots(1, 2, figsize=(8,10), sharey=True) \n",
    "\n",
    "    #Calculate the max and min latitude and longitude values!\n",
    "    max_lat = sliced_data.LATITUDE.max().values\n",
    "    min_lat = sliced_data.LATITUDE.min().values\n",
    "    max_lon = sliced_data.LONGITUDE.max().values\n",
    "    min_lon = sliced_data.LONGITUDE.min().values\n",
    "    min_time = pd.to_datetime(sliced_data.TIME.min().values).strftime('%Y-%m-%d')\n",
    "    max_time = pd.to_datetime(sliced_data.TIME.max().values).strftime('%Y-%m-%d')\n",
    "\n",
    "    # Get the month of each profile and repeat the values for each profile\n",
    "    #sliced_data = sliced_data_filtered.where(~np.isnan(sliced_data.TEMP) & ~np.isnan(sliced_data.PRES), drop=True)\n",
    "\n",
    "\n",
    "    months = sliced_data_filtered.TIME.dt.month\n",
    "    months_repeated = np.repeat(months.dropna(dim='N_PROF'), sliced_data_filtered.N_PROF.size)\n",
    "    \n",
    "    #Calculate the number of profiles DIMENSION!\n",
    "    n_prof_value = sliced_data.N_PROF.values[0]\n",
    "    \n",
    "    #Temperature\n",
    "    sc1 = ax[0].scatter(sliced_data.TEMP,-sliced_data.PRES, c=months_repeated, alpha=0.5, cmap=\"jet\")\n",
    "    ax[0].set_xlabel('Sea Temperature IN SITU ITS-90 in Celcius') \n",
    "    ax[0].set_ylabel('Sea Pressure (dbar)')\n",
    "    ax[0].set_title('CTD Graphs')\n",
    "    ax[0].grid()\n",
    "   \n",
    "    #Salinity\n",
    "    sc2 = ax[1].scatter(sliced_data.PSAL,-sliced_data.PRES, c=months_repeated, alpha=0.5, cmap=\"jet\")\n",
    "    ax[1].set_title(f\"WSO Identifier - {a_values[i]}\")\n",
    "    ax[1].set_xlabel('Practical Salinity (PSU)')\n",
    "    ax[1].grid()\n",
    "\n",
    "    #Provide a text box with important information like lat, lon, and the number of profiles!\n",
    "    text_plot = f\"Min Lat: {min_lat:.2f}\\nMax Lat: {max_lat:.2f}\\nMin Lon: {min_lon:.2f}\\nMax Lon: {max_lon:.2f}\\nMin Time: {min_time}\\nMax Time: {max_time}\"\n",
    "    ax[1].text(0.95, 0.05, text_plot, transform=ax[1].transAxes, ha='right', va='bottom', fontsize=10, bbox=dict(facecolor='white', edgecolor='black', boxstyle='round,pad=0.5'))\n",
    "\n",
    "    \n",
    "    ax.set_title(f\"T/S diagram for float {prof.PLATFORM_NUMBER[0].astype(str).values}\")\n",
    "    ax.set_ylabel(\"potential temperature\")\n",
    "    ax.set_xlabel(f\"{prof.PSAL.long_name}\")\n",
    "    fig.colorbar(sc1, label=\"Profiles by Month\")\n",
    "    fig.colorbar(sc2, label=\"Profiles by Month\")\n",
    "\n",
    "# Display the plot\n",
    "plt.show()"
   ]
  },
  {
   "cell_type": "code",
   "execution_count": 4,
   "id": "3965aa01-5608-4c5b-b640-60952f1d55dd",
   "metadata": {},
   "outputs": [
    {
     "name": "stdout",
     "output_type": "stream",
     "text": [
      "15\n",
      "1\n"
     ]
    }
   ],
   "source": [
    "print(len(sliced_data_filtered))\n",
    "print(len(sliced_data_list))"
   ]
  }
 ],
 "metadata": {
  "kernelspec": {
   "display_name": "Python 3 (ipykernel)",
   "language": "python",
   "name": "python3"
  },
  "language_info": {
   "codemirror_mode": {
    "name": "ipython",
    "version": 3
   },
   "file_extension": ".py",
   "mimetype": "text/x-python",
   "name": "python",
   "nbconvert_exporter": "python",
   "pygments_lexer": "ipython3",
   "version": "3.9.16"
  }
 },
 "nbformat": 4,
 "nbformat_minor": 5
}
