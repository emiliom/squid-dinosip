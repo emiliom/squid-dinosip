{
 "cells": [
  {
   "cell_type": "markdown",
   "id": "e33fe1eb-d2b7-401e-8106-88a30f9df733",
   "metadata": {},
   "source": [
    "# SQUID SMILE interpolation of GPS location data\n",
    "\n",
    "Emilio, 8/1/2023\n",
    "\n",
    "Apply GPS latitude and longitude data to the `vel` data file based on interpolation on timestamps."
   ]
  },
  {
   "cell_type": "code",
   "execution_count": 1,
   "id": "781c6445-8281-4da1-b1e8-1100e8404416",
   "metadata": {},
   "outputs": [],
   "source": [
    "from pathlib import Path\n",
    "from datetime import datetime\n",
    "import pandas as pd"
   ]
  },
  {
   "cell_type": "code",
   "execution_count": 2,
   "id": "a71b12db-70fb-4496-b8d8-50e046e2682c",
   "metadata": {},
   "outputs": [],
   "source": [
    "base_dpth = Path(\"/Users/lily/Documents/Elizabeth's Files 2023/DINO SIP Documents/\")"
   ]
  },
  {
   "cell_type": "code",
   "execution_count": 3,
   "id": "4fa58aac-badf-442d-bda2-77d4c6554c19",
   "metadata": {},
   "outputs": [],
   "source": [
    "gps_parquet_path = \"gps_points_allexperiments.parquet\"\n",
    "ctd_parquet_path = \"ctd_points_allexperiments.parquet\"\n",
    "vel_parquet_path = \"vel_points_allexperiments.parquet\""
   ]
  },
  {
   "cell_type": "markdown",
   "id": "c35d12c4-e2a9-4e39-b7e8-2eab890c17cc",
   "metadata": {},
   "source": [
    "## Read the data (parquet files)\n",
    "\n",
    "For the GPS file, let's load only the columsn we're interested in. That will make processing faster, as it'll consume less memory"
   ]
  },
  {
   "cell_type": "code",
   "execution_count": 4,
   "id": "17e798ee-e00f-4b2c-b59a-5fb0153b113a",
   "metadata": {},
   "outputs": [],
   "source": [
    "gps_df = pd.read_parquet(base_dpth / gps_parquet_path)[['UXT_DT', 'LAT', 'LON', 'deployment', 'experiment']]\n",
    "vel_df = pd.read_parquet(base_dpth / vel_parquet_path)"
   ]
  },
  {
   "cell_type": "markdown",
   "id": "729ddfe1-b24a-4266-8e75-965de1a5f315",
   "metadata": {},
   "source": [
    "I find it helpful to examine the DataFrames a bit, for reference"
   ]
  },
  {
   "cell_type": "code",
   "execution_count": 5,
   "id": "8f09ea52-66d5-463e-ad4b-8132563f5849",
   "metadata": {},
   "outputs": [
    {
     "data": {
      "text/plain": [
       "(591822, 2619890)"
      ]
     },
     "execution_count": 5,
     "metadata": {},
     "output_type": "execute_result"
    }
   ],
   "source": [
    "len(gps_df), len(vel_df)"
   ]
  },
  {
   "cell_type": "code",
   "execution_count": 6,
   "id": "2ecb0525-f546-49b1-a160-d9d4dfa2b8c1",
   "metadata": {},
   "outputs": [
    {
     "data": {
      "text/plain": [
       "Index(['UXT_DT', 'LAT', 'LON', 'deployment', 'experiment'], dtype='object')"
      ]
     },
     "execution_count": 6,
     "metadata": {},
     "output_type": "execute_result"
    }
   ],
   "source": [
    "gps_df.columns"
   ]
  },
  {
   "cell_type": "code",
   "execution_count": 7,
   "id": "8b0ffc34-2ca6-48d9-ba43-3b1029dc8c44",
   "metadata": {},
   "outputs": [
    {
     "data": {
      "text/plain": [
       "Index(['deployment', 'experiment', 'dive_nbr', 'P', 'T', 'S', 'u1', 'v1',\n",
       "       'verr1', 'u2', 'v2', 'verr2', 'W', 'e1mean', 'e2mean', 'piston', 'uxt',\n",
       "       'UXT_DT'],\n",
       "      dtype='object')"
      ]
     },
     "execution_count": 7,
     "metadata": {},
     "output_type": "execute_result"
    }
   ],
   "source": [
    "vel_df.columns"
   ]
  },
  {
   "cell_type": "markdown",
   "id": "cc549458-ca69-4e57-a7a4-26b4ddb4ce0f",
   "metadata": {},
   "source": [
    "## Merge the two DataFrames\n",
    "\n",
    "This merging step will include columns and rows from both DataFrames. It'll have lots of empty cells (\"NaN\", Not-A-Number). Before merging, we filter the two DataFrames to retain only SMILE records."
   ]
  },
  {
   "cell_type": "code",
   "execution_count": 8,
   "id": "657f6217-fa5a-43a7-8e4f-d30da705e463",
   "metadata": {},
   "outputs": [],
   "source": [
    "vel_gps_df = (\n",
    "    gps_df[gps_df.experiment == 'SMILE']\n",
    "    .merge(vel_df[vel_df.experiment == 'SMILE'], how='outer')\n",
    "    .set_index('UXT_DT')\n",
    ")"
   ]
  },
  {
   "cell_type": "code",
   "execution_count": 9,
   "id": "ceb7ad63-022f-42b3-b56c-73868c21ea2d",
   "metadata": {},
   "outputs": [
    {
     "data": {
      "text/plain": [
       "631603"
      ]
     },
     "execution_count": 9,
     "metadata": {},
     "output_type": "execute_result"
    }
   ],
   "source": [
    "len(vel_gps_df)"
   ]
  },
  {
   "cell_type": "code",
   "execution_count": 10,
   "id": "4c372ff1-254c-439a-80e0-05502c165241",
   "metadata": {},
   "outputs": [
    {
     "data": {
      "text/html": [
       "<div>\n",
       "<style scoped>\n",
       "    .dataframe tbody tr th:only-of-type {\n",
       "        vertical-align: middle;\n",
       "    }\n",
       "\n",
       "    .dataframe tbody tr th {\n",
       "        vertical-align: top;\n",
       "    }\n",
       "\n",
       "    .dataframe thead th {\n",
       "        text-align: right;\n",
       "    }\n",
       "</style>\n",
       "<table border=\"1\" class=\"dataframe\">\n",
       "  <thead>\n",
       "    <tr style=\"text-align: right;\">\n",
       "      <th></th>\n",
       "      <th>LAT</th>\n",
       "      <th>LON</th>\n",
       "      <th>deployment</th>\n",
       "      <th>experiment</th>\n",
       "      <th>dive_nbr</th>\n",
       "      <th>P</th>\n",
       "      <th>T</th>\n",
       "      <th>S</th>\n",
       "      <th>u1</th>\n",
       "      <th>v1</th>\n",
       "      <th>verr1</th>\n",
       "      <th>u2</th>\n",
       "      <th>v2</th>\n",
       "      <th>verr2</th>\n",
       "      <th>W</th>\n",
       "      <th>e1mean</th>\n",
       "      <th>e2mean</th>\n",
       "      <th>piston</th>\n",
       "      <th>uxt</th>\n",
       "    </tr>\n",
       "    <tr>\n",
       "      <th>UXT_DT</th>\n",
       "      <th></th>\n",
       "      <th></th>\n",
       "      <th></th>\n",
       "      <th></th>\n",
       "      <th></th>\n",
       "      <th></th>\n",
       "      <th></th>\n",
       "      <th></th>\n",
       "      <th></th>\n",
       "      <th></th>\n",
       "      <th></th>\n",
       "      <th></th>\n",
       "      <th></th>\n",
       "      <th></th>\n",
       "      <th></th>\n",
       "      <th></th>\n",
       "      <th></th>\n",
       "      <th></th>\n",
       "      <th></th>\n",
       "    </tr>\n",
       "  </thead>\n",
       "  <tbody>\n",
       "    <tr>\n",
       "      <th>2017-03-08 05:53:59+00:00</th>\n",
       "      <td>26.238247</td>\n",
       "      <td>-146.275868</td>\n",
       "      <td>4968s1</td>\n",
       "      <td>SMILE</td>\n",
       "      <td>NaN</td>\n",
       "      <td>NaN</td>\n",
       "      <td>NaN</td>\n",
       "      <td>NaN</td>\n",
       "      <td>NaN</td>\n",
       "      <td>NaN</td>\n",
       "      <td>NaN</td>\n",
       "      <td>NaN</td>\n",
       "      <td>NaN</td>\n",
       "      <td>NaN</td>\n",
       "      <td>NaN</td>\n",
       "      <td>NaN</td>\n",
       "      <td>NaN</td>\n",
       "      <td>NaN</td>\n",
       "      <td>NaN</td>\n",
       "    </tr>\n",
       "    <tr>\n",
       "      <th>2017-03-08 05:53:59+00:00</th>\n",
       "      <td>26.238247</td>\n",
       "      <td>-146.275868</td>\n",
       "      <td>4968s1</td>\n",
       "      <td>SMILE</td>\n",
       "      <td>NaN</td>\n",
       "      <td>NaN</td>\n",
       "      <td>NaN</td>\n",
       "      <td>NaN</td>\n",
       "      <td>NaN</td>\n",
       "      <td>NaN</td>\n",
       "      <td>NaN</td>\n",
       "      <td>NaN</td>\n",
       "      <td>NaN</td>\n",
       "      <td>NaN</td>\n",
       "      <td>NaN</td>\n",
       "      <td>NaN</td>\n",
       "      <td>NaN</td>\n",
       "      <td>NaN</td>\n",
       "      <td>NaN</td>\n",
       "    </tr>\n",
       "    <tr>\n",
       "      <th>2017-03-08 05:54:00+00:00</th>\n",
       "      <td>26.238247</td>\n",
       "      <td>-146.275868</td>\n",
       "      <td>4968s1</td>\n",
       "      <td>SMILE</td>\n",
       "      <td>NaN</td>\n",
       "      <td>NaN</td>\n",
       "      <td>NaN</td>\n",
       "      <td>NaN</td>\n",
       "      <td>NaN</td>\n",
       "      <td>NaN</td>\n",
       "      <td>NaN</td>\n",
       "      <td>NaN</td>\n",
       "      <td>NaN</td>\n",
       "      <td>NaN</td>\n",
       "      <td>NaN</td>\n",
       "      <td>NaN</td>\n",
       "      <td>NaN</td>\n",
       "      <td>NaN</td>\n",
       "      <td>NaN</td>\n",
       "    </tr>\n",
       "    <tr>\n",
       "      <th>2017-03-08 05:54:00+00:00</th>\n",
       "      <td>26.238247</td>\n",
       "      <td>-146.275868</td>\n",
       "      <td>4968s1</td>\n",
       "      <td>SMILE</td>\n",
       "      <td>NaN</td>\n",
       "      <td>NaN</td>\n",
       "      <td>NaN</td>\n",
       "      <td>NaN</td>\n",
       "      <td>NaN</td>\n",
       "      <td>NaN</td>\n",
       "      <td>NaN</td>\n",
       "      <td>NaN</td>\n",
       "      <td>NaN</td>\n",
       "      <td>NaN</td>\n",
       "      <td>NaN</td>\n",
       "      <td>NaN</td>\n",
       "      <td>NaN</td>\n",
       "      <td>NaN</td>\n",
       "      <td>NaN</td>\n",
       "    </tr>\n",
       "    <tr>\n",
       "      <th>2017-03-08 05:54:01+00:00</th>\n",
       "      <td>26.238247</td>\n",
       "      <td>-146.275868</td>\n",
       "      <td>4968s1</td>\n",
       "      <td>SMILE</td>\n",
       "      <td>NaN</td>\n",
       "      <td>NaN</td>\n",
       "      <td>NaN</td>\n",
       "      <td>NaN</td>\n",
       "      <td>NaN</td>\n",
       "      <td>NaN</td>\n",
       "      <td>NaN</td>\n",
       "      <td>NaN</td>\n",
       "      <td>NaN</td>\n",
       "      <td>NaN</td>\n",
       "      <td>NaN</td>\n",
       "      <td>NaN</td>\n",
       "      <td>NaN</td>\n",
       "      <td>NaN</td>\n",
       "      <td>NaN</td>\n",
       "    </tr>\n",
       "  </tbody>\n",
       "</table>\n",
       "</div>"
      ],
      "text/plain": [
       "                                 LAT         LON deployment experiment  \\\n",
       "UXT_DT                                                                   \n",
       "2017-03-08 05:53:59+00:00  26.238247 -146.275868     4968s1      SMILE   \n",
       "2017-03-08 05:53:59+00:00  26.238247 -146.275868     4968s1      SMILE   \n",
       "2017-03-08 05:54:00+00:00  26.238247 -146.275868     4968s1      SMILE   \n",
       "2017-03-08 05:54:00+00:00  26.238247 -146.275868     4968s1      SMILE   \n",
       "2017-03-08 05:54:01+00:00  26.238247 -146.275868     4968s1      SMILE   \n",
       "\n",
       "                          dive_nbr   P   T   S  u1  v1  verr1  u2  v2  verr2  \\\n",
       "UXT_DT                                                                         \n",
       "2017-03-08 05:53:59+00:00      NaN NaN NaN NaN NaN NaN    NaN NaN NaN    NaN   \n",
       "2017-03-08 05:53:59+00:00      NaN NaN NaN NaN NaN NaN    NaN NaN NaN    NaN   \n",
       "2017-03-08 05:54:00+00:00      NaN NaN NaN NaN NaN NaN    NaN NaN NaN    NaN   \n",
       "2017-03-08 05:54:00+00:00      NaN NaN NaN NaN NaN NaN    NaN NaN NaN    NaN   \n",
       "2017-03-08 05:54:01+00:00      NaN NaN NaN NaN NaN NaN    NaN NaN NaN    NaN   \n",
       "\n",
       "                            W  e1mean  e2mean  piston  uxt  \n",
       "UXT_DT                                                      \n",
       "2017-03-08 05:53:59+00:00 NaN     NaN     NaN     NaN  NaN  \n",
       "2017-03-08 05:53:59+00:00 NaN     NaN     NaN     NaN  NaN  \n",
       "2017-03-08 05:54:00+00:00 NaN     NaN     NaN     NaN  NaN  \n",
       "2017-03-08 05:54:00+00:00 NaN     NaN     NaN     NaN  NaN  \n",
       "2017-03-08 05:54:01+00:00 NaN     NaN     NaN     NaN  NaN  "
      ]
     },
     "execution_count": 10,
     "metadata": {},
     "output_type": "execute_result"
    }
   ],
   "source": [
    "vel_gps_df.head()"
   ]
  },
  {
   "cell_type": "markdown",
   "id": "550d7258-2103-4b06-9c48-24a11edd1b1f",
   "metadata": {},
   "source": [
    "## Interpolate latitude and longitude values on the timestamp values\n",
    "\n",
    "Every timestamp from the `vel` DataFrame will be assigned a latitude and longitude value based on interpolation of latitudes and longitudes over the GPS timestamps.\n",
    "\n",
    "A different interpolation method could be used, but linear seems good enough for our purposes."
   ]
  },
  {
   "cell_type": "code",
   "execution_count": 11,
   "id": "a5cbb251-a448-4610-90e3-9b8b4bfabfe9",
   "metadata": {},
   "outputs": [
    {
     "ename": "ValueError",
     "evalue": "Expect x to not have duplicates",
     "output_type": "error",
     "traceback": [
      "\u001b[1;31m---------------------------------------------------------------------------\u001b[0m",
      "\u001b[1;31mValueError\u001b[0m                                Traceback (most recent call last)",
      "Cell \u001b[1;32mIn[11], line 1\u001b[0m\n\u001b[1;32m----> 1\u001b[0m vel_gps_df \u001b[38;5;241m=\u001b[39m \u001b[43mvel_gps_df\u001b[49m\u001b[38;5;241;43m.\u001b[39;49m\u001b[43minterpolate\u001b[49m\u001b[43m(\u001b[49m\u001b[43mmethod\u001b[49m\u001b[38;5;241;43m=\u001b[39;49m\u001b[38;5;124;43m'\u001b[39;49m\u001b[38;5;124;43mslinear\u001b[39;49m\u001b[38;5;124;43m'\u001b[39;49m\u001b[43m)\u001b[49m\u001b[38;5;241m.\u001b[39mdropna(subset\u001b[38;5;241m=\u001b[39m\u001b[38;5;124m\"\u001b[39m\u001b[38;5;124mv1\u001b[39m\u001b[38;5;124m\"\u001b[39m)\n",
      "File \u001b[1;32m~\\mambaforge\\envs\\AOS2\\lib\\site-packages\\pandas\\core\\frame.py:11471\u001b[0m, in \u001b[0;36mDataFrame.interpolate\u001b[1;34m(self, method, axis, limit, inplace, limit_direction, limit_area, downcast, **kwargs)\u001b[0m\n\u001b[0;32m  11459\u001b[0m \u001b[38;5;28;01mdef\u001b[39;00m \u001b[38;5;21minterpolate\u001b[39m(\n\u001b[0;32m  11460\u001b[0m     \u001b[38;5;28mself\u001b[39m: DataFrame,\n\u001b[0;32m  11461\u001b[0m     method: \u001b[38;5;28mstr\u001b[39m \u001b[38;5;241m=\u001b[39m \u001b[38;5;124m\"\u001b[39m\u001b[38;5;124mlinear\u001b[39m\u001b[38;5;124m\"\u001b[39m,\n\u001b[1;32m   (...)\u001b[0m\n\u001b[0;32m  11469\u001b[0m     \u001b[38;5;241m*\u001b[39m\u001b[38;5;241m*\u001b[39mkwargs,\n\u001b[0;32m  11470\u001b[0m ) \u001b[38;5;241m-\u001b[39m\u001b[38;5;241m>\u001b[39m DataFrame \u001b[38;5;241m|\u001b[39m \u001b[38;5;28;01mNone\u001b[39;00m:\n\u001b[1;32m> 11471\u001b[0m     \u001b[38;5;28;01mreturn\u001b[39;00m \u001b[38;5;28msuper\u001b[39m()\u001b[38;5;241m.\u001b[39minterpolate(\n\u001b[0;32m  11472\u001b[0m         method\u001b[38;5;241m=\u001b[39mmethod,\n\u001b[0;32m  11473\u001b[0m         axis\u001b[38;5;241m=\u001b[39maxis,\n\u001b[0;32m  11474\u001b[0m         limit\u001b[38;5;241m=\u001b[39mlimit,\n\u001b[0;32m  11475\u001b[0m         inplace\u001b[38;5;241m=\u001b[39minplace,\n\u001b[0;32m  11476\u001b[0m         limit_direction\u001b[38;5;241m=\u001b[39mlimit_direction,\n\u001b[0;32m  11477\u001b[0m         limit_area\u001b[38;5;241m=\u001b[39mlimit_area,\n\u001b[0;32m  11478\u001b[0m         downcast\u001b[38;5;241m=\u001b[39mdowncast,\n\u001b[0;32m  11479\u001b[0m         \u001b[38;5;241m*\u001b[39m\u001b[38;5;241m*\u001b[39mkwargs,\n\u001b[0;32m  11480\u001b[0m     )\n",
      "File \u001b[1;32m~\\mambaforge\\envs\\AOS2\\lib\\site-packages\\pandas\\core\\generic.py:7681\u001b[0m, in \u001b[0;36mNDFrame.interpolate\u001b[1;34m(self, method, axis, limit, inplace, limit_direction, limit_area, downcast, **kwargs)\u001b[0m\n\u001b[0;32m   7675\u001b[0m \u001b[38;5;28;01mif\u001b[39;00m isna(index)\u001b[38;5;241m.\u001b[39many():\n\u001b[0;32m   7676\u001b[0m     \u001b[38;5;28;01mraise\u001b[39;00m \u001b[38;5;167;01mNotImplementedError\u001b[39;00m(\n\u001b[0;32m   7677\u001b[0m         \u001b[38;5;124m\"\u001b[39m\u001b[38;5;124mInterpolation with NaNs in the index \u001b[39m\u001b[38;5;124m\"\u001b[39m\n\u001b[0;32m   7678\u001b[0m         \u001b[38;5;124m\"\u001b[39m\u001b[38;5;124mhas not been implemented. Try filling \u001b[39m\u001b[38;5;124m\"\u001b[39m\n\u001b[0;32m   7679\u001b[0m         \u001b[38;5;124m\"\u001b[39m\u001b[38;5;124mthose NaNs before interpolating.\u001b[39m\u001b[38;5;124m\"\u001b[39m\n\u001b[0;32m   7680\u001b[0m     )\n\u001b[1;32m-> 7681\u001b[0m new_data \u001b[38;5;241m=\u001b[39m obj\u001b[38;5;241m.\u001b[39m_mgr\u001b[38;5;241m.\u001b[39minterpolate(\n\u001b[0;32m   7682\u001b[0m     method\u001b[38;5;241m=\u001b[39mmethod,\n\u001b[0;32m   7683\u001b[0m     axis\u001b[38;5;241m=\u001b[39maxis,\n\u001b[0;32m   7684\u001b[0m     index\u001b[38;5;241m=\u001b[39mindex,\n\u001b[0;32m   7685\u001b[0m     limit\u001b[38;5;241m=\u001b[39mlimit,\n\u001b[0;32m   7686\u001b[0m     limit_direction\u001b[38;5;241m=\u001b[39mlimit_direction,\n\u001b[0;32m   7687\u001b[0m     limit_area\u001b[38;5;241m=\u001b[39mlimit_area,\n\u001b[0;32m   7688\u001b[0m     inplace\u001b[38;5;241m=\u001b[39minplace,\n\u001b[0;32m   7689\u001b[0m     downcast\u001b[38;5;241m=\u001b[39mdowncast,\n\u001b[0;32m   7690\u001b[0m     \u001b[38;5;241m*\u001b[39m\u001b[38;5;241m*\u001b[39mkwargs,\n\u001b[0;32m   7691\u001b[0m )\n\u001b[0;32m   7693\u001b[0m result \u001b[38;5;241m=\u001b[39m \u001b[38;5;28mself\u001b[39m\u001b[38;5;241m.\u001b[39m_constructor(new_data)\n\u001b[0;32m   7694\u001b[0m \u001b[38;5;28;01mif\u001b[39;00m should_transpose:\n",
      "File \u001b[1;32m~\\mambaforge\\envs\\AOS2\\lib\\site-packages\\pandas\\core\\internals\\managers.py:417\u001b[0m, in \u001b[0;36mBaseBlockManager.interpolate\u001b[1;34m(self, inplace, **kwargs)\u001b[0m\n\u001b[0;32m    416\u001b[0m \u001b[38;5;28;01mdef\u001b[39;00m \u001b[38;5;21minterpolate\u001b[39m(\u001b[38;5;28mself\u001b[39m: T, inplace: \u001b[38;5;28mbool\u001b[39m, \u001b[38;5;241m*\u001b[39m\u001b[38;5;241m*\u001b[39mkwargs) \u001b[38;5;241m-\u001b[39m\u001b[38;5;241m>\u001b[39m T:\n\u001b[1;32m--> 417\u001b[0m     \u001b[38;5;28;01mreturn\u001b[39;00m \u001b[38;5;28mself\u001b[39m\u001b[38;5;241m.\u001b[39mapply(\n\u001b[0;32m    418\u001b[0m         \u001b[38;5;124m\"\u001b[39m\u001b[38;5;124minterpolate\u001b[39m\u001b[38;5;124m\"\u001b[39m, inplace\u001b[38;5;241m=\u001b[39minplace, \u001b[38;5;241m*\u001b[39m\u001b[38;5;241m*\u001b[39mkwargs, using_cow\u001b[38;5;241m=\u001b[39musing_copy_on_write()\n\u001b[0;32m    419\u001b[0m     )\n",
      "File \u001b[1;32m~\\mambaforge\\envs\\AOS2\\lib\\site-packages\\pandas\\core\\internals\\managers.py:352\u001b[0m, in \u001b[0;36mBaseBlockManager.apply\u001b[1;34m(self, f, align_keys, **kwargs)\u001b[0m\n\u001b[0;32m    350\u001b[0m         applied \u001b[38;5;241m=\u001b[39m b\u001b[38;5;241m.\u001b[39mapply(f, \u001b[38;5;241m*\u001b[39m\u001b[38;5;241m*\u001b[39mkwargs)\n\u001b[0;32m    351\u001b[0m     \u001b[38;5;28;01melse\u001b[39;00m:\n\u001b[1;32m--> 352\u001b[0m         applied \u001b[38;5;241m=\u001b[39m \u001b[38;5;28mgetattr\u001b[39m(b, f)(\u001b[38;5;241m*\u001b[39m\u001b[38;5;241m*\u001b[39mkwargs)\n\u001b[0;32m    353\u001b[0m     result_blocks \u001b[38;5;241m=\u001b[39m extend_blocks(applied, result_blocks)\n\u001b[0;32m    355\u001b[0m out \u001b[38;5;241m=\u001b[39m \u001b[38;5;28mtype\u001b[39m(\u001b[38;5;28mself\u001b[39m)\u001b[38;5;241m.\u001b[39mfrom_blocks(result_blocks, \u001b[38;5;28mself\u001b[39m\u001b[38;5;241m.\u001b[39maxes)\n",
      "File \u001b[1;32m~\\mambaforge\\envs\\AOS2\\lib\\site-packages\\pandas\\core\\internals\\blocks.py:1380\u001b[0m, in \u001b[0;36mBlock.interpolate\u001b[1;34m(self, method, axis, index, inplace, limit, limit_direction, limit_area, fill_value, downcast, using_cow, **kwargs)\u001b[0m\n\u001b[0;32m   1377\u001b[0m     data \u001b[38;5;241m=\u001b[39m \u001b[38;5;28mself\u001b[39m\u001b[38;5;241m.\u001b[39mvalues\u001b[38;5;241m.\u001b[39mcopy()\n\u001b[0;32m   1378\u001b[0m data \u001b[38;5;241m=\u001b[39m cast(np\u001b[38;5;241m.\u001b[39mndarray, data)  \u001b[38;5;66;03m# bc overridden by ExtensionBlock\u001b[39;00m\n\u001b[1;32m-> 1380\u001b[0m missing\u001b[38;5;241m.\u001b[39minterpolate_array_2d(\n\u001b[0;32m   1381\u001b[0m     data,\n\u001b[0;32m   1382\u001b[0m     method\u001b[38;5;241m=\u001b[39mmethod,\n\u001b[0;32m   1383\u001b[0m     axis\u001b[38;5;241m=\u001b[39maxis,\n\u001b[0;32m   1384\u001b[0m     index\u001b[38;5;241m=\u001b[39mindex,\n\u001b[0;32m   1385\u001b[0m     limit\u001b[38;5;241m=\u001b[39mlimit,\n\u001b[0;32m   1386\u001b[0m     limit_direction\u001b[38;5;241m=\u001b[39mlimit_direction,\n\u001b[0;32m   1387\u001b[0m     limit_area\u001b[38;5;241m=\u001b[39mlimit_area,\n\u001b[0;32m   1388\u001b[0m     fill_value\u001b[38;5;241m=\u001b[39mfill_value,\n\u001b[0;32m   1389\u001b[0m     \u001b[38;5;241m*\u001b[39m\u001b[38;5;241m*\u001b[39mkwargs,\n\u001b[0;32m   1390\u001b[0m )\n\u001b[0;32m   1392\u001b[0m nb \u001b[38;5;241m=\u001b[39m \u001b[38;5;28mself\u001b[39m\u001b[38;5;241m.\u001b[39mmake_block_same_class(data, refs\u001b[38;5;241m=\u001b[39mrefs)\n\u001b[0;32m   1393\u001b[0m \u001b[38;5;28;01mreturn\u001b[39;00m nb\u001b[38;5;241m.\u001b[39m_maybe_downcast([nb], downcast, using_cow)\n",
      "File \u001b[1;32m~\\mambaforge\\envs\\AOS2\\lib\\site-packages\\pandas\\core\\missing.py:267\u001b[0m, in \u001b[0;36minterpolate_array_2d\u001b[1;34m(data, method, axis, index, limit, limit_direction, limit_area, fill_value, coerce, downcast, **kwargs)\u001b[0m\n\u001b[0;32m    264\u001b[0m \u001b[38;5;28;01melse\u001b[39;00m:\n\u001b[0;32m    265\u001b[0m     \u001b[38;5;28;01massert\u001b[39;00m index \u001b[38;5;129;01mis\u001b[39;00m \u001b[38;5;129;01mnot\u001b[39;00m \u001b[38;5;28;01mNone\u001b[39;00m  \u001b[38;5;66;03m# for mypy\u001b[39;00m\n\u001b[1;32m--> 267\u001b[0m     _interpolate_2d_with_fill(\n\u001b[0;32m    268\u001b[0m         data\u001b[38;5;241m=\u001b[39mdata,\n\u001b[0;32m    269\u001b[0m         index\u001b[38;5;241m=\u001b[39mindex,\n\u001b[0;32m    270\u001b[0m         axis\u001b[38;5;241m=\u001b[39maxis,\n\u001b[0;32m    271\u001b[0m         method\u001b[38;5;241m=\u001b[39mmethod,\n\u001b[0;32m    272\u001b[0m         limit\u001b[38;5;241m=\u001b[39mlimit,\n\u001b[0;32m    273\u001b[0m         limit_direction\u001b[38;5;241m=\u001b[39mlimit_direction,\n\u001b[0;32m    274\u001b[0m         limit_area\u001b[38;5;241m=\u001b[39mlimit_area,\n\u001b[0;32m    275\u001b[0m         fill_value\u001b[38;5;241m=\u001b[39mfill_value,\n\u001b[0;32m    276\u001b[0m         \u001b[38;5;241m*\u001b[39m\u001b[38;5;241m*\u001b[39mkwargs,\n\u001b[0;32m    277\u001b[0m     )\n",
      "File \u001b[1;32m~\\mambaforge\\envs\\AOS2\\lib\\site-packages\\pandas\\core\\missing.py:359\u001b[0m, in \u001b[0;36m_interpolate_2d_with_fill\u001b[1;34m(data, index, axis, method, limit, limit_direction, limit_area, fill_value, **kwargs)\u001b[0m\n\u001b[0;32m    341\u001b[0m     _interpolate_1d(\n\u001b[0;32m    342\u001b[0m         indices\u001b[38;5;241m=\u001b[39mindices,\n\u001b[0;32m    343\u001b[0m         yvalues\u001b[38;5;241m=\u001b[39myvalues,\n\u001b[1;32m   (...)\u001b[0m\n\u001b[0;32m    350\u001b[0m         \u001b[38;5;241m*\u001b[39m\u001b[38;5;241m*\u001b[39mkwargs,\n\u001b[0;32m    351\u001b[0m     )\n\u001b[0;32m    353\u001b[0m \u001b[38;5;66;03m# error: Argument 1 to \"apply_along_axis\" has incompatible type\u001b[39;00m\n\u001b[0;32m    354\u001b[0m \u001b[38;5;66;03m# \"Callable[[ndarray[Any, Any]], None]\"; expected \"Callable[...,\u001b[39;00m\n\u001b[0;32m    355\u001b[0m \u001b[38;5;66;03m# Union[_SupportsArray[dtype[<nothing>]], Sequence[_SupportsArray\u001b[39;00m\n\u001b[0;32m    356\u001b[0m \u001b[38;5;66;03m# [dtype[<nothing>]]], Sequence[Sequence[_SupportsArray[dtype[<nothing>]]]],\u001b[39;00m\n\u001b[0;32m    357\u001b[0m \u001b[38;5;66;03m# Sequence[Sequence[Sequence[_SupportsArray[dtype[<nothing>]]]]],\u001b[39;00m\n\u001b[0;32m    358\u001b[0m \u001b[38;5;66;03m# Sequence[Sequence[Sequence[Sequence[_SupportsArray[dtype[<nothing>]]]]]]]]\"\u001b[39;00m\n\u001b[1;32m--> 359\u001b[0m \u001b[43mnp\u001b[49m\u001b[38;5;241;43m.\u001b[39;49m\u001b[43mapply_along_axis\u001b[49m\u001b[43m(\u001b[49m\u001b[43mfunc\u001b[49m\u001b[43m,\u001b[49m\u001b[43m \u001b[49m\u001b[43maxis\u001b[49m\u001b[43m,\u001b[49m\u001b[43m \u001b[49m\u001b[43mdata\u001b[49m\u001b[43m)\u001b[49m\n",
      "File \u001b[1;32m~\\mambaforge\\envs\\AOS2\\lib\\site-packages\\numpy\\lib\\shape_base.py:379\u001b[0m, in \u001b[0;36mapply_along_axis\u001b[1;34m(func1d, axis, arr, *args, **kwargs)\u001b[0m\n\u001b[0;32m    375\u001b[0m \u001b[38;5;28;01mexcept\u001b[39;00m \u001b[38;5;167;01mStopIteration\u001b[39;00m:\n\u001b[0;32m    376\u001b[0m     \u001b[38;5;28;01mraise\u001b[39;00m \u001b[38;5;167;01mValueError\u001b[39;00m(\n\u001b[0;32m    377\u001b[0m         \u001b[38;5;124m'\u001b[39m\u001b[38;5;124mCannot apply_along_axis when any iteration dimensions are 0\u001b[39m\u001b[38;5;124m'\u001b[39m\n\u001b[0;32m    378\u001b[0m     ) \u001b[38;5;28;01mfrom\u001b[39;00m \u001b[38;5;28;01mNone\u001b[39;00m\n\u001b[1;32m--> 379\u001b[0m res \u001b[38;5;241m=\u001b[39m asanyarray(func1d(inarr_view[ind0], \u001b[38;5;241m*\u001b[39margs, \u001b[38;5;241m*\u001b[39m\u001b[38;5;241m*\u001b[39mkwargs))\n\u001b[0;32m    381\u001b[0m \u001b[38;5;66;03m# build a buffer for storing evaluations of func1d.\u001b[39;00m\n\u001b[0;32m    382\u001b[0m \u001b[38;5;66;03m# remove the requested axis, and add the new ones on the end.\u001b[39;00m\n\u001b[0;32m    383\u001b[0m \u001b[38;5;66;03m# laid out so that each write is contiguous.\u001b[39;00m\n\u001b[0;32m    384\u001b[0m \u001b[38;5;66;03m# for a tuple index inds, buff[inds] = func1d(inarr_view[inds])\u001b[39;00m\n\u001b[0;32m    385\u001b[0m buff \u001b[38;5;241m=\u001b[39m zeros(inarr_view\u001b[38;5;241m.\u001b[39mshape[:\u001b[38;5;241m-\u001b[39m\u001b[38;5;241m1\u001b[39m] \u001b[38;5;241m+\u001b[39m res\u001b[38;5;241m.\u001b[39mshape, res\u001b[38;5;241m.\u001b[39mdtype)\n",
      "File \u001b[1;32m~\\mambaforge\\envs\\AOS2\\lib\\site-packages\\pandas\\core\\missing.py:341\u001b[0m, in \u001b[0;36m_interpolate_2d_with_fill.<locals>.func\u001b[1;34m(yvalues)\u001b[0m\n\u001b[0;32m    338\u001b[0m \u001b[38;5;28;01mdef\u001b[39;00m \u001b[38;5;21mfunc\u001b[39m(yvalues: np\u001b[38;5;241m.\u001b[39mndarray) \u001b[38;5;241m-\u001b[39m\u001b[38;5;241m>\u001b[39m \u001b[38;5;28;01mNone\u001b[39;00m:\n\u001b[0;32m    339\u001b[0m     \u001b[38;5;66;03m# process 1-d slices in the axis direction\u001b[39;00m\n\u001b[1;32m--> 341\u001b[0m     _interpolate_1d(\n\u001b[0;32m    342\u001b[0m         indices\u001b[38;5;241m=\u001b[39mindices,\n\u001b[0;32m    343\u001b[0m         yvalues\u001b[38;5;241m=\u001b[39myvalues,\n\u001b[0;32m    344\u001b[0m         method\u001b[38;5;241m=\u001b[39mmethod,\n\u001b[0;32m    345\u001b[0m         limit\u001b[38;5;241m=\u001b[39mlimit,\n\u001b[0;32m    346\u001b[0m         limit_direction\u001b[38;5;241m=\u001b[39mlimit_direction,\n\u001b[0;32m    347\u001b[0m         limit_area\u001b[38;5;241m=\u001b[39mlimit_area,\n\u001b[0;32m    348\u001b[0m         fill_value\u001b[38;5;241m=\u001b[39mfill_value,\n\u001b[0;32m    349\u001b[0m         bounds_error\u001b[38;5;241m=\u001b[39m\u001b[38;5;28;01mFalse\u001b[39;00m,\n\u001b[0;32m    350\u001b[0m         \u001b[38;5;241m*\u001b[39m\u001b[38;5;241m*\u001b[39mkwargs,\n\u001b[0;32m    351\u001b[0m     )\n",
      "File \u001b[1;32m~\\mambaforge\\envs\\AOS2\\lib\\site-packages\\pandas\\core\\missing.py:474\u001b[0m, in \u001b[0;36m_interpolate_1d\u001b[1;34m(indices, yvalues, method, limit, limit_direction, limit_area, fill_value, bounds_error, order, **kwargs)\u001b[0m\n\u001b[0;32m    470\u001b[0m     yvalues[invalid] \u001b[38;5;241m=\u001b[39m np\u001b[38;5;241m.\u001b[39minterp(\n\u001b[0;32m    471\u001b[0m         indices[invalid], indices[valid][indexer], yvalues[valid][indexer]\n\u001b[0;32m    472\u001b[0m     )\n\u001b[0;32m    473\u001b[0m \u001b[38;5;28;01melse\u001b[39;00m:\n\u001b[1;32m--> 474\u001b[0m     yvalues[invalid] \u001b[38;5;241m=\u001b[39m _interpolate_scipy_wrapper(\n\u001b[0;32m    475\u001b[0m         indices[valid],\n\u001b[0;32m    476\u001b[0m         yvalues[valid],\n\u001b[0;32m    477\u001b[0m         indices[invalid],\n\u001b[0;32m    478\u001b[0m         method\u001b[38;5;241m=\u001b[39mmethod,\n\u001b[0;32m    479\u001b[0m         fill_value\u001b[38;5;241m=\u001b[39mfill_value,\n\u001b[0;32m    480\u001b[0m         bounds_error\u001b[38;5;241m=\u001b[39mbounds_error,\n\u001b[0;32m    481\u001b[0m         order\u001b[38;5;241m=\u001b[39morder,\n\u001b[0;32m    482\u001b[0m         \u001b[38;5;241m*\u001b[39m\u001b[38;5;241m*\u001b[39mkwargs,\n\u001b[0;32m    483\u001b[0m     )\n\u001b[0;32m    485\u001b[0m \u001b[38;5;28;01mif\u001b[39;00m is_datetimelike:\n\u001b[0;32m    486\u001b[0m     yvalues[preserve_nans] \u001b[38;5;241m=\u001b[39m NaT\u001b[38;5;241m.\u001b[39mvalue\n",
      "File \u001b[1;32m~\\mambaforge\\envs\\AOS2\\lib\\site-packages\\pandas\\core\\missing.py:543\u001b[0m, in \u001b[0;36m_interpolate_scipy_wrapper\u001b[1;34m(x, y, new_x, method, fill_value, bounds_error, order, **kwargs)\u001b[0m\n\u001b[0;32m    541\u001b[0m     \u001b[38;5;28;01mif\u001b[39;00m method \u001b[38;5;241m==\u001b[39m \u001b[38;5;124m\"\u001b[39m\u001b[38;5;124mpolynomial\u001b[39m\u001b[38;5;124m\"\u001b[39m:\n\u001b[0;32m    542\u001b[0m         method \u001b[38;5;241m=\u001b[39m order\n\u001b[1;32m--> 543\u001b[0m     terp \u001b[38;5;241m=\u001b[39m \u001b[43minterpolate\u001b[49m\u001b[38;5;241;43m.\u001b[39;49m\u001b[43minterp1d\u001b[49m\u001b[43m(\u001b[49m\n\u001b[0;32m    544\u001b[0m \u001b[43m        \u001b[49m\u001b[43mx\u001b[49m\u001b[43m,\u001b[49m\u001b[43m \u001b[49m\u001b[43my\u001b[49m\u001b[43m,\u001b[49m\u001b[43m \u001b[49m\u001b[43mkind\u001b[49m\u001b[38;5;241;43m=\u001b[39;49m\u001b[43mmethod\u001b[49m\u001b[43m,\u001b[49m\u001b[43m \u001b[49m\u001b[43mfill_value\u001b[49m\u001b[38;5;241;43m=\u001b[39;49m\u001b[43mfill_value\u001b[49m\u001b[43m,\u001b[49m\u001b[43m \u001b[49m\u001b[43mbounds_error\u001b[49m\u001b[38;5;241;43m=\u001b[39;49m\u001b[43mbounds_error\u001b[49m\n\u001b[0;32m    545\u001b[0m \u001b[43m    \u001b[49m\u001b[43m)\u001b[49m\n\u001b[0;32m    546\u001b[0m     new_y \u001b[38;5;241m=\u001b[39m terp(new_x)\n\u001b[0;32m    547\u001b[0m \u001b[38;5;28;01melif\u001b[39;00m method \u001b[38;5;241m==\u001b[39m \u001b[38;5;124m\"\u001b[39m\u001b[38;5;124mspline\u001b[39m\u001b[38;5;124m\"\u001b[39m:\n\u001b[0;32m    548\u001b[0m     \u001b[38;5;66;03m# GH #10633, #24014\u001b[39;00m\n",
      "File \u001b[1;32m~\\mambaforge\\envs\\AOS2\\lib\\site-packages\\scipy\\interpolate\\_interpolate.py:619\u001b[0m, in \u001b[0;36minterp1d.__init__\u001b[1;34m(***failed resolving arguments***)\u001b[0m\n\u001b[0;32m    616\u001b[0m         yy \u001b[38;5;241m=\u001b[39m np\u001b[38;5;241m.\u001b[39mones_like(\u001b[38;5;28mself\u001b[39m\u001b[38;5;241m.\u001b[39m_y)\n\u001b[0;32m    617\u001b[0m         rewrite_nan \u001b[38;5;241m=\u001b[39m \u001b[38;5;28;01mTrue\u001b[39;00m\n\u001b[1;32m--> 619\u001b[0m \u001b[38;5;28mself\u001b[39m\u001b[38;5;241m.\u001b[39m_spline \u001b[38;5;241m=\u001b[39m \u001b[43mmake_interp_spline\u001b[49m\u001b[43m(\u001b[49m\u001b[43mxx\u001b[49m\u001b[43m,\u001b[49m\u001b[43m \u001b[49m\u001b[43myy\u001b[49m\u001b[43m,\u001b[49m\u001b[43m \u001b[49m\u001b[43mk\u001b[49m\u001b[38;5;241;43m=\u001b[39;49m\u001b[43morder\u001b[49m\u001b[43m,\u001b[49m\n\u001b[0;32m    620\u001b[0m \u001b[43m                                  \u001b[49m\u001b[43mcheck_finite\u001b[49m\u001b[38;5;241;43m=\u001b[39;49m\u001b[38;5;28;43;01mFalse\u001b[39;49;00m\u001b[43m)\u001b[49m\n\u001b[0;32m    621\u001b[0m \u001b[38;5;28;01mif\u001b[39;00m rewrite_nan:\n\u001b[0;32m    622\u001b[0m     \u001b[38;5;28mself\u001b[39m\u001b[38;5;241m.\u001b[39m_call \u001b[38;5;241m=\u001b[39m \u001b[38;5;28mself\u001b[39m\u001b[38;5;241m.\u001b[39m\u001b[38;5;18m__class__\u001b[39m\u001b[38;5;241m.\u001b[39m_call_nan_spline\n",
      "File \u001b[1;32m~\\mambaforge\\envs\\AOS2\\lib\\site-packages\\scipy\\interpolate\\_bsplines.py:1297\u001b[0m, in \u001b[0;36mmake_interp_spline\u001b[1;34m(x, y, k, t, bc_type, axis, check_finite)\u001b[0m\n\u001b[0;32m   1294\u001b[0m     \u001b[38;5;28;01mraise\u001b[39;00m \u001b[38;5;167;01mValueError\u001b[39;00m(\u001b[38;5;124m'\u001b[39m\u001b[38;5;124mShapes of x \u001b[39m\u001b[38;5;132;01m{}\u001b[39;00m\u001b[38;5;124m and y \u001b[39m\u001b[38;5;132;01m{}\u001b[39;00m\u001b[38;5;124m are incompatible\u001b[39m\u001b[38;5;124m'\u001b[39m\n\u001b[0;32m   1295\u001b[0m                      \u001b[38;5;241m.\u001b[39mformat(x\u001b[38;5;241m.\u001b[39mshape, y\u001b[38;5;241m.\u001b[39mshape))\n\u001b[0;32m   1296\u001b[0m \u001b[38;5;28;01mif\u001b[39;00m np\u001b[38;5;241m.\u001b[39many(x[\u001b[38;5;241m1\u001b[39m:] \u001b[38;5;241m==\u001b[39m x[:\u001b[38;5;241m-\u001b[39m\u001b[38;5;241m1\u001b[39m]):\n\u001b[1;32m-> 1297\u001b[0m     \u001b[38;5;28;01mraise\u001b[39;00m \u001b[38;5;167;01mValueError\u001b[39;00m(\u001b[38;5;124m\"\u001b[39m\u001b[38;5;124mExpect x to not have duplicates\u001b[39m\u001b[38;5;124m\"\u001b[39m)\n\u001b[0;32m   1298\u001b[0m \u001b[38;5;28;01mif\u001b[39;00m x\u001b[38;5;241m.\u001b[39mndim \u001b[38;5;241m!=\u001b[39m \u001b[38;5;241m1\u001b[39m \u001b[38;5;129;01mor\u001b[39;00m np\u001b[38;5;241m.\u001b[39many(x[\u001b[38;5;241m1\u001b[39m:] \u001b[38;5;241m<\u001b[39m x[:\u001b[38;5;241m-\u001b[39m\u001b[38;5;241m1\u001b[39m]):\n\u001b[0;32m   1299\u001b[0m     \u001b[38;5;28;01mraise\u001b[39;00m \u001b[38;5;167;01mValueError\u001b[39;00m(\u001b[38;5;124m\"\u001b[39m\u001b[38;5;124mExpect x to be a 1D strictly increasing sequence.\u001b[39m\u001b[38;5;124m\"\u001b[39m)\n",
      "\u001b[1;31mValueError\u001b[0m: Expect x to not have duplicates"
     ]
    }
   ],
   "source": [
    "vel_gps_df = vel_gps_df.interpolate(method='slinear').dropna(subset=\"v1\")"
   ]
  },
  {
   "cell_type": "code",
   "execution_count": null,
   "id": "b45517dd-c50e-4493-ae6c-64215ecf4859",
   "metadata": {},
   "outputs": [],
   "source": [
    "len(vel_gps_df)"
   ]
  },
  {
   "cell_type": "code",
   "execution_count": null,
   "id": "af812b66-0903-42bc-9913-5d5ab210be82",
   "metadata": {},
   "outputs": [],
   "source": [
    "vel_gps_df.head()"
   ]
  },
  {
   "cell_type": "markdown",
   "id": "a4b8687a-66bb-4504-b570-1d69a2d539ff",
   "metadata": {},
   "source": [
    "Now let's export it to a parquet file"
   ]
  },
  {
   "cell_type": "code",
   "execution_count": null,
   "id": "d0665c4f-bc9d-4f67-bb6f-1fadb7516cf2",
   "metadata": {},
   "outputs": [],
   "source": [
    "vel_gps_df.to_parquet(base_dpth / 'vel_gps_interpolated.parquet')"
   ]
  },
  {
   "cell_type": "markdown",
   "id": "d3a54ae0-e94d-45da-9cf0-f08434674a03",
   "metadata": {},
   "source": [
    "## Let's look at the issue of data from 2019\n",
    "\n",
    "We can examine this via a histogram. `uxt` is a numeric timestmap column (seconds since 1970-01-01). As we can see, A small fraction of the data have bad timestamps, from 2019. It'd be better to go back to earlier steps and filter it out based on, say, `gps_df.UXT_DT > '2018-01-01'` and `vel_df.UXT_DT > '2018-01-01'"
   ]
  },
  {
   "cell_type": "code",
   "execution_count": null,
   "id": "265982c4-4dde-4d59-b487-5ad714a024e1",
   "metadata": {},
   "outputs": [],
   "source": [
    "vel_gps_df.index.min(), vel_gps_df.index.max()"
   ]
  },
  {
   "cell_type": "code",
   "execution_count": null,
   "id": "c78f2a9b-41ff-4fed-abc6-1dfc277c737f",
   "metadata": {},
   "outputs": [],
   "source": [
    "vel_gps_df.uxt.hist();"
   ]
  },
  {
   "cell_type": "code",
   "execution_count": null,
   "id": "5e57785a-c2a4-42b7-9f05-249e171daf97",
   "metadata": {},
   "outputs": [],
   "source": []
  }
 ],
 "metadata": {
  "kernelspec": {
   "display_name": "Python 3 (ipykernel)",
   "language": "python",
   "name": "python3"
  },
  "language_info": {
   "codemirror_mode": {
    "name": "ipython",
    "version": 3
   },
   "file_extension": ".py",
   "mimetype": "text/x-python",
   "name": "python",
   "nbconvert_exporter": "python",
   "pygments_lexer": "ipython3",
   "version": "3.9.16"
  }
 },
 "nbformat": 4,
 "nbformat_minor": 5
}
